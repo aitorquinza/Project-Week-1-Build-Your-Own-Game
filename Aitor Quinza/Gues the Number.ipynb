{
 "cells": [
  {
   "cell_type": "code",
   "execution_count": null,
   "metadata": {},
   "outputs": [],
   "source": [
    "import random"
   ]
  },
  {
   "cell_type": "code",
   "execution_count": null,
   "metadata": {},
   "outputs": [],
   "source": [
    "levels = {\n",
    "    \"easy\" : (4, 0, 10),\n",
    "    \"medium\" : (7, 0, 100),\n",
    "    \"hard\" : (10, -500, 500)\n",
    "}"
   ]
  },
  {
   "cell_type": "code",
   "execution_count": null,
   "metadata": {},
   "outputs": [],
   "source": [
    "def username():\n",
    "    username = input('What\\'s your name? ').lower().capitalize()\n",
    "\n",
    "    return username"
   ]
  },
  {
   "cell_type": "code",
   "execution_count": null,
   "metadata": {},
   "outputs": [],
   "source": [
    "def which_level(username):\n",
    "    option = 0\n",
    "    while option == 0:\n",
    "        level_input = input(f'Now you have to choose a level, \\nWrite 1 or easy: {levels[\"easy\"][0]} tries and the number goes from {str(levels[\"easy\"][1])} to {str(levels[\"easy\"][2])} \\nWrite 2 or medium: {levels[\"medium\"][0]} tries and the number goes from {str(levels[\"medium\"][1])} to {str(levels[\"medium\"][2])}\\nWrite 3 or hard: {levels[\"hard\"][0]} tries and the number goes from {str(levels[\"hard\"][1])} to {str(levels[\"hard\"][2])} \\n')\n",
    "        \n",
    "        try:\n",
    "            val = int(level_input)\n",
    "            if val in [1,2,3]:\n",
    "                if val == 1:\n",
    "                    level = \"easy\"\n",
    "                    print(f'Congrats, {username}, you have chosen the level {level}')\n",
    "                    option += 1\n",
    "                elif val == 2:\n",
    "                    level = \"medium\"\n",
    "                    print(f'Congrats, {username}, you have chosen the level {level}')\n",
    "                    option += 1\n",
    "                else:\n",
    "                    level = \"hard\"\n",
    "                    print(f'Congrats, {username}, you have chosen the level {level}')\n",
    "                    option += 1\n",
    "        except ValueError:\n",
    "            try:\n",
    "                val = str(level_input)\n",
    "                if val in ['easy', 'medium', 'hard']:\n",
    "                    if val == \"easy\":\n",
    "                        level = \"easy\"\n",
    "                        print(f'Congrats, {username}, you have chosen the level {level}')\n",
    "                        option += 1\n",
    "                    elif val == \"medium\":\n",
    "                        level = \"medium\"\n",
    "                        print(f'Congrats, {username}, you have chosen the level {level}')\n",
    "                        option += 1\n",
    "                    else:\n",
    "                        level = \"hard\"\n",
    "                        print(f'Congrats, {username}, you have chosen the level {level}')\n",
    "                        option += 1\n",
    "            finally:\n",
    "                    print(\"Try again\")    \n",
    "\n",
    "\n",
    "    return (level)"
   ]
  },
  {
   "cell_type": "code",
   "execution_count": null,
   "metadata": {},
   "outputs": [],
   "source": [
    "def computer_number(level):\n",
    "    number = random.randint( levels[level][1], levels[level][2] )\n",
    "    tries = levels[level][0]\n",
    "    return (number, tries)"
   ]
  },
  {
   "cell_type": "code",
   "execution_count": null,
   "metadata": {},
   "outputs": [],
   "source": [
    "def guess_number(cpu):\n",
    "    (number, tries) = cpu\n",
    "    u_number = None\n",
    "    for i in range(1, (tries + 1)):\n",
    "        while type(u_number) != int:\n",
    "            try:\n",
    "                u_number = int(input('Which number do you want to try? \\n'))\n",
    "                break\n",
    "            except ValueError:\n",
    "                print('Write an integer number')\n",
    "\n",
    "        if u_number < number:\n",
    "            print(f'Is greater than {u_number}, you have {tries - i} tries left')\n",
    "            u_number = None\n",
    "        elif u_number > number:\n",
    "            print(f'Is lower than {u_number}, you have {tries - i} tries left')\n",
    "            u_number = None\n",
    "        else:\n",
    "            print(f'Congrats! You guessed the number I thought!\\n The correct number was {u_number}\\nYou tried {i} times')\n",
    "            break\n",
    "\n",
    "        if (tries) - i == 0:\n",
    "            print(f'Good luck the next time, the number was {number}')\n"
   ]
  },
  {
   "cell_type": "code",
   "execution_count": null,
   "metadata": {},
   "outputs": [],
   "source": [
    "u_name = username()\n",
    "l_chosen = which_level(u_name)\n",
    "cpu = computer_number(l_chosen)\n",
    "guess_number(cpu)"
   ]
  }
 ],
 "metadata": {
  "kernelspec": {
   "display_name": "Python 3",
   "language": "python",
   "name": "python3"
  },
  "language_info": {
   "codemirror_mode": {
    "name": "ipython",
    "version": 3
   },
   "file_extension": ".py",
   "mimetype": "text/x-python",
   "name": "python",
   "nbconvert_exporter": "python",
   "pygments_lexer": "ipython3",
   "version": "3.7.6"
  }
 },
 "nbformat": 4,
 "nbformat_minor": 4
}
