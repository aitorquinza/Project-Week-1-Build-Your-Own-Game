{
 "cells": [
  {
   "cell_type": "markdown",
   "metadata": {},
   "source": [
    "Definition from the external libraries I'm going to use:"
   ]
  },
  {
   "cell_type": "code",
   "execution_count": 1,
   "metadata": {},
   "outputs": [],
   "source": [
    "import random"
   ]
  },
  {
   "cell_type": "markdown",
   "metadata": {},
   "source": [
    "Definition of the levels:"
   ]
  },
  {
   "cell_type": "code",
   "execution_count": 2,
   "metadata": {},
   "outputs": [],
   "source": [
    "levels = {\n",
    "    \"easy\" : (4, 0, 10),\n",
    "    \"medium\" : (7, 0, 100),\n",
    "    \"hard\" : (10, -500, 500)\n",
    "}"
   ]
  },
  {
   "cell_type": "markdown",
   "metadata": {},
   "source": [
    "Define some basic functions for the game, asking the user name, the level who want to play and the "
   ]
  },
  {
   "cell_type": "code",
   "execution_count": 3,
   "metadata": {},
   "outputs": [],
   "source": [
    "def username():\n",
    "    username = input('What\\'s your desired username? ')\n",
    "    return username"
   ]
  },
  {
   "cell_type": "code",
   "execution_count": 7,
   "metadata": {},
   "outputs": [],
   "source": [
    "def which_level(username):\n",
    "    option = 0\n",
    "    while option == 0:\n",
    "        level_input = input(f'Now you have to choose a level, \\nWrite 1 or easy: {levels[\"easy\"][0]} tries and the number goes from from {str(levels[\"easy\"][1])} to {str(levels[\"easy\"][2])} \\nWrite 2 or medium: {levels[\"medium\"][0]} tries and the number goes from {str(levels[\"medium\"][1])} to {str(levels[\"medium\"][2])}\\nWrite 3 or hard: {levels[\"hard\"][0]} tries and the number goes from {str(levels[\"hard\"][1])} to {str(levels[\"hard\"][2])} \\n')\n",
    "        \n",
    "        try:\n",
    "            val = int(level_input)\n",
    "            if val in [1,2,3]:\n",
    "                if val == 1:\n",
    "                    level = \"easy\"\n",
    "                    print(f'Congrats, {username}, you have chosen the level {level}')\n",
    "                    option += 1\n",
    "                elif val == 2:\n",
    "                    level = \"medium\"\n",
    "                    print(f'Congrats, {username}, you have chosen the level {level}')\n",
    "                    option += 1\n",
    "                else:\n",
    "                    level = \"hard\"\n",
    "                    print(f'Congrats, {username}, you have chosen the level {level}')\n",
    "                    option += 1\n",
    "        except ValueError:\n",
    "            try:\n",
    "                val = str(level_input)\n",
    "                if val in ['easy', 'medium', 'hard']:\n",
    "                    if val == \"easy\":\n",
    "                        level = \"easy\"\n",
    "                        print(f'Congrats, {username}, you have chosen the level {level}')\n",
    "                        option += 1\n",
    "                    elif val == \"medium\":\n",
    "                        level = \"medium\"\n",
    "                        print(f'Congrats, {username}, you have chosen the level {level}')\n",
    "                        option += 1\n",
    "                    else:\n",
    "                        level = \"hard\"\n",
    "                        print(f'Congrats, {username}, you have chosen the level {level}')\n",
    "                        option += 1\n",
    "            except ValueError:\n",
    "                print(\"Try again\")\n",
    "\n",
    "\n",
    "    return (level)"
   ]
  },
  {
   "cell_type": "code",
   "execution_count": null,
   "metadata": {},
   "outputs": [],
   "source": []
  }
 ],
 "metadata": {
  "kernelspec": {
   "display_name": "Python 3",
   "language": "python",
   "name": "python3"
  },
  "language_info": {
   "codemirror_mode": {
    "name": "ipython",
    "version": 3
   },
   "file_extension": ".py",
   "mimetype": "text/x-python",
   "name": "python",
   "nbconvert_exporter": "python",
   "pygments_lexer": "ipython3",
   "version": "3.7.6"
  }
 },
 "nbformat": 4,
 "nbformat_minor": 4
}
